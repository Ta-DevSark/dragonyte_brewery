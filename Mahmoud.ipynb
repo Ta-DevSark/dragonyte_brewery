{
 "cells": [
  {
   "cell_type": "code",
   "execution_count": 1,
   "id": "224801cc",
   "metadata": {},
   "outputs": [],
   "source": [
    "import pandas as pd\n",
    "import numpy as np\n"
   ]
  },
  {
   "cell_type": "code",
   "execution_count": 2,
   "id": "18148c48",
   "metadata": {},
   "outputs": [],
   "source": [
    "df = pd.read_csv('Categories.csv')"
   ]
  },
  {
   "cell_type": "code",
   "execution_count": 3,
   "id": "a69c73f5",
   "metadata": {},
   "outputs": [
    {
     "data": {
      "text/plain": [
       "Index(['id', 'Name'], dtype='object')"
      ]
     },
     "execution_count": 3,
     "metadata": {},
     "output_type": "execute_result"
    }
   ],
   "source": [
    "df.columns"
   ]
  },
  {
   "cell_type": "code",
   "execution_count": 4,
   "id": "dd5d86c4",
   "metadata": {},
   "outputs": [
    {
     "data": {
      "text/html": [
       "<div>\n",
       "<style scoped>\n",
       "    .dataframe tbody tr th:only-of-type {\n",
       "        vertical-align: middle;\n",
       "    }\n",
       "\n",
       "    .dataframe tbody tr th {\n",
       "        vertical-align: top;\n",
       "    }\n",
       "\n",
       "    .dataframe thead th {\n",
       "        text-align: right;\n",
       "    }\n",
       "</style>\n",
       "<table border=\"1\" class=\"dataframe\">\n",
       "  <thead>\n",
       "    <tr style=\"text-align: right;\">\n",
       "      <th></th>\n",
       "      <th>id</th>\n",
       "      <th>Name</th>\n",
       "    </tr>\n",
       "  </thead>\n",
       "  <tbody>\n",
       "    <tr>\n",
       "      <th>0</th>\n",
       "      <td>1</td>\n",
       "      <td>Beer</td>\n",
       "    </tr>\n",
       "    <tr>\n",
       "      <th>1</th>\n",
       "      <td>2</td>\n",
       "      <td>Wine</td>\n",
       "    </tr>\n",
       "    <tr>\n",
       "      <th>2</th>\n",
       "      <td>3</td>\n",
       "      <td>Spirits</td>\n",
       "    </tr>\n",
       "    <tr>\n",
       "      <th>3</th>\n",
       "      <td>4</td>\n",
       "      <td>RTDs/High-Strength Premixes</td>\n",
       "    </tr>\n",
       "    <tr>\n",
       "      <th>4</th>\n",
       "      <td>5</td>\n",
       "      <td>Cider/Perry</td>\n",
       "    </tr>\n",
       "  </tbody>\n",
       "</table>\n",
       "</div>"
      ],
      "text/plain": [
       "   id                         Name\n",
       "0   1                         Beer\n",
       "1   2                         Wine\n",
       "2   3                      Spirits\n",
       "3   4  RTDs/High-Strength Premixes\n",
       "4   5                  Cider/Perry"
      ]
     },
     "execution_count": 4,
     "metadata": {},
     "output_type": "execute_result"
    }
   ],
   "source": [
    "df"
   ]
  },
  {
   "cell_type": "code",
   "execution_count": 5,
   "id": "167c9534",
   "metadata": {},
   "outputs": [],
   "source": [
    "df1 = pd.read_csv('Channel_Volume.csv')"
   ]
  },
  {
   "cell_type": "code",
   "execution_count": 6,
   "id": "ddcc9187",
   "metadata": {},
   "outputs": [
    {
     "data": {
      "text/html": [
       "<div>\n",
       "<style scoped>\n",
       "    .dataframe tbody tr th:only-of-type {\n",
       "        vertical-align: middle;\n",
       "    }\n",
       "\n",
       "    .dataframe tbody tr th {\n",
       "        vertical-align: top;\n",
       "    }\n",
       "\n",
       "    .dataframe thead th {\n",
       "        text-align: right;\n",
       "    }\n",
       "</style>\n",
       "<table border=\"1\" class=\"dataframe\">\n",
       "  <thead>\n",
       "    <tr style=\"text-align: right;\">\n",
       "      <th></th>\n",
       "      <th>Location</th>\n",
       "      <th>Industry</th>\n",
       "      <th>Edition</th>\n",
       "      <th>Category</th>\n",
       "      <th>Subcategory</th>\n",
       "      <th>Hierarchy_Level</th>\n",
       "      <th>Data_Type</th>\n",
       "      <th>Outlet</th>\n",
       "      <th>Outlet_Hierarchy</th>\n",
       "      <th>Unit</th>\n",
       "      <th>Year_text</th>\n",
       "      <th>Year_date</th>\n",
       "      <th>Volume</th>\n",
       "    </tr>\n",
       "  </thead>\n",
       "  <tbody>\n",
       "    <tr>\n",
       "      <th>0</th>\n",
       "      <td>1</td>\n",
       "      <td>Alcoholic Drinks</td>\n",
       "      <td>2022</td>\n",
       "      <td>Beer</td>\n",
       "      <td>Beer</td>\n",
       "      <td>1</td>\n",
       "      <td>Off-trade Volume</td>\n",
       "      <td>Food/drink/tobacco specialists</td>\n",
       "      <td>3</td>\n",
       "      <td>million litres</td>\n",
       "      <td>2007</td>\n",
       "      <td>Monday, 31 December 2007</td>\n",
       "      <td>2613,845506</td>\n",
       "    </tr>\n",
       "    <tr>\n",
       "      <th>1</th>\n",
       "      <td>1</td>\n",
       "      <td>Alcoholic Drinks</td>\n",
       "      <td>2022</td>\n",
       "      <td>Beer</td>\n",
       "      <td>Beer</td>\n",
       "      <td>1</td>\n",
       "      <td>Off-trade Volume</td>\n",
       "      <td>Food/drink/tobacco specialists</td>\n",
       "      <td>3</td>\n",
       "      <td>million litres</td>\n",
       "      <td>2008</td>\n",
       "      <td>Wednesday, 31 December 2008</td>\n",
       "      <td>2513,025824</td>\n",
       "    </tr>\n",
       "    <tr>\n",
       "      <th>2</th>\n",
       "      <td>1</td>\n",
       "      <td>Alcoholic Drinks</td>\n",
       "      <td>2022</td>\n",
       "      <td>Beer</td>\n",
       "      <td>Beer</td>\n",
       "      <td>1</td>\n",
       "      <td>Off-trade Volume</td>\n",
       "      <td>Food/drink/tobacco specialists</td>\n",
       "      <td>3</td>\n",
       "      <td>million litres</td>\n",
       "      <td>2009</td>\n",
       "      <td>Thursday, 31 December 2009</td>\n",
       "      <td>2421,088595</td>\n",
       "    </tr>\n",
       "    <tr>\n",
       "      <th>3</th>\n",
       "      <td>1</td>\n",
       "      <td>Alcoholic Drinks</td>\n",
       "      <td>2022</td>\n",
       "      <td>Beer</td>\n",
       "      <td>Beer</td>\n",
       "      <td>1</td>\n",
       "      <td>Off-trade Volume</td>\n",
       "      <td>Food/drink/tobacco specialists</td>\n",
       "      <td>3</td>\n",
       "      <td>million litres</td>\n",
       "      <td>2010</td>\n",
       "      <td>Friday, 31 December 2010</td>\n",
       "      <td>2422,128432</td>\n",
       "    </tr>\n",
       "    <tr>\n",
       "      <th>4</th>\n",
       "      <td>1</td>\n",
       "      <td>Alcoholic Drinks</td>\n",
       "      <td>2022</td>\n",
       "      <td>Beer</td>\n",
       "      <td>Beer</td>\n",
       "      <td>1</td>\n",
       "      <td>Off-trade Volume</td>\n",
       "      <td>Food/drink/tobacco specialists</td>\n",
       "      <td>3</td>\n",
       "      <td>million litres</td>\n",
       "      <td>2011</td>\n",
       "      <td>Saturday, 31 December 2011</td>\n",
       "      <td>2439,33622</td>\n",
       "    </tr>\n",
       "    <tr>\n",
       "      <th>...</th>\n",
       "      <td>...</td>\n",
       "      <td>...</td>\n",
       "      <td>...</td>\n",
       "      <td>...</td>\n",
       "      <td>...</td>\n",
       "      <td>...</td>\n",
       "      <td>...</td>\n",
       "      <td>...</td>\n",
       "      <td>...</td>\n",
       "      <td>...</td>\n",
       "      <td>...</td>\n",
       "      <td>...</td>\n",
       "      <td>...</td>\n",
       "    </tr>\n",
       "    <tr>\n",
       "      <th>8463</th>\n",
       "      <td>7</td>\n",
       "      <td>Alcoholic Drinks</td>\n",
       "      <td>2022</td>\n",
       "      <td>Beer</td>\n",
       "      <td>Beer</td>\n",
       "      <td>1</td>\n",
       "      <td>Off-trade Volume</td>\n",
       "      <td>Store-Based Retailing</td>\n",
       "      <td>1</td>\n",
       "      <td>million litres</td>\n",
       "      <td>2017</td>\n",
       "      <td>Sunday, 31 December 2017</td>\n",
       "      <td>16514,21084</td>\n",
       "    </tr>\n",
       "    <tr>\n",
       "      <th>8464</th>\n",
       "      <td>7</td>\n",
       "      <td>Alcoholic Drinks</td>\n",
       "      <td>2022</td>\n",
       "      <td>Beer</td>\n",
       "      <td>Beer</td>\n",
       "      <td>1</td>\n",
       "      <td>Off-trade Volume</td>\n",
       "      <td>Store-Based Retailing</td>\n",
       "      <td>1</td>\n",
       "      <td>million litres</td>\n",
       "      <td>2018</td>\n",
       "      <td>Monday, 31 December 2018</td>\n",
       "      <td>16522,15239</td>\n",
       "    </tr>\n",
       "    <tr>\n",
       "      <th>8465</th>\n",
       "      <td>7</td>\n",
       "      <td>Alcoholic Drinks</td>\n",
       "      <td>2022</td>\n",
       "      <td>Beer</td>\n",
       "      <td>Beer</td>\n",
       "      <td>1</td>\n",
       "      <td>Off-trade Volume</td>\n",
       "      <td>Store-Based Retailing</td>\n",
       "      <td>1</td>\n",
       "      <td>million litres</td>\n",
       "      <td>2019</td>\n",
       "      <td>Tuesday, 31 December 2019</td>\n",
       "      <td>16544,60644</td>\n",
       "    </tr>\n",
       "    <tr>\n",
       "      <th>8466</th>\n",
       "      <td>7</td>\n",
       "      <td>Alcoholic Drinks</td>\n",
       "      <td>2022</td>\n",
       "      <td>Beer</td>\n",
       "      <td>Beer</td>\n",
       "      <td>1</td>\n",
       "      <td>Off-trade Volume</td>\n",
       "      <td>Store-Based Retailing</td>\n",
       "      <td>1</td>\n",
       "      <td>million litres</td>\n",
       "      <td>2020</td>\n",
       "      <td>Thursday, 31 December 2020</td>\n",
       "      <td>16626,5149</td>\n",
       "    </tr>\n",
       "    <tr>\n",
       "      <th>8467</th>\n",
       "      <td>7</td>\n",
       "      <td>Alcoholic Drinks</td>\n",
       "      <td>2022</td>\n",
       "      <td>Beer</td>\n",
       "      <td>Beer</td>\n",
       "      <td>1</td>\n",
       "      <td>Off-trade Volume</td>\n",
       "      <td>Store-Based Retailing</td>\n",
       "      <td>1</td>\n",
       "      <td>million litres</td>\n",
       "      <td>2021</td>\n",
       "      <td>Friday, 31 December 2021</td>\n",
       "      <td>16664,638</td>\n",
       "    </tr>\n",
       "  </tbody>\n",
       "</table>\n",
       "<p>8468 rows × 13 columns</p>\n",
       "</div>"
      ],
      "text/plain": [
       "      Location          Industry  Edition Category Subcategory  \\\n",
       "0            1  Alcoholic Drinks     2022     Beer        Beer   \n",
       "1            1  Alcoholic Drinks     2022     Beer        Beer   \n",
       "2            1  Alcoholic Drinks     2022     Beer        Beer   \n",
       "3            1  Alcoholic Drinks     2022     Beer        Beer   \n",
       "4            1  Alcoholic Drinks     2022     Beer        Beer   \n",
       "...        ...               ...      ...      ...         ...   \n",
       "8463         7  Alcoholic Drinks     2022     Beer        Beer   \n",
       "8464         7  Alcoholic Drinks     2022     Beer        Beer   \n",
       "8465         7  Alcoholic Drinks     2022     Beer        Beer   \n",
       "8466         7  Alcoholic Drinks     2022     Beer        Beer   \n",
       "8467         7  Alcoholic Drinks     2022     Beer        Beer   \n",
       "\n",
       "      Hierarchy_Level         Data_Type                          Outlet  \\\n",
       "0                   1  Off-trade Volume  Food/drink/tobacco specialists   \n",
       "1                   1  Off-trade Volume  Food/drink/tobacco specialists   \n",
       "2                   1  Off-trade Volume  Food/drink/tobacco specialists   \n",
       "3                   1  Off-trade Volume  Food/drink/tobacco specialists   \n",
       "4                   1  Off-trade Volume  Food/drink/tobacco specialists   \n",
       "...               ...               ...                             ...   \n",
       "8463                1  Off-trade Volume           Store-Based Retailing   \n",
       "8464                1  Off-trade Volume           Store-Based Retailing   \n",
       "8465                1  Off-trade Volume           Store-Based Retailing   \n",
       "8466                1  Off-trade Volume           Store-Based Retailing   \n",
       "8467                1  Off-trade Volume           Store-Based Retailing   \n",
       "\n",
       "      Outlet_Hierarchy            Unit  Year_text  \\\n",
       "0                    3  million litres       2007   \n",
       "1                    3  million litres       2008   \n",
       "2                    3  million litres       2009   \n",
       "3                    3  million litres       2010   \n",
       "4                    3  million litres       2011   \n",
       "...                ...             ...        ...   \n",
       "8463                 1  million litres       2017   \n",
       "8464                 1  million litres       2018   \n",
       "8465                 1  million litres       2019   \n",
       "8466                 1  million litres       2020   \n",
       "8467                 1  million litres       2021   \n",
       "\n",
       "                        Year_date       Volume  \n",
       "0        Monday, 31 December 2007  2613,845506  \n",
       "1     Wednesday, 31 December 2008  2513,025824  \n",
       "2      Thursday, 31 December 2009  2421,088595  \n",
       "3        Friday, 31 December 2010  2422,128432  \n",
       "4      Saturday, 31 December 2011   2439,33622  \n",
       "...                           ...          ...  \n",
       "8463     Sunday, 31 December 2017  16514,21084  \n",
       "8464     Monday, 31 December 2018  16522,15239  \n",
       "8465    Tuesday, 31 December 2019  16544,60644  \n",
       "8466   Thursday, 31 December 2020   16626,5149  \n",
       "8467     Friday, 31 December 2021    16664,638  \n",
       "\n",
       "[8468 rows x 13 columns]"
      ]
     },
     "execution_count": 6,
     "metadata": {},
     "output_type": "execute_result"
    }
   ],
   "source": [
    "df1"
   ]
  },
  {
   "cell_type": "code",
   "execution_count": null,
   "id": "89c5bc0d",
   "metadata": {},
   "outputs": [],
   "source": [
    "df2 = pd.read_csv('Company_Share_GBO_unit.csv', sep=';')"
   ]
  },
  {
   "cell_type": "code",
   "execution_count": null,
   "id": "321c4e72",
   "metadata": {},
   "outputs": [],
   "source": [
    "df2"
   ]
  },
  {
   "cell_type": "code",
   "execution_count": null,
   "id": "580581bd",
   "metadata": {},
   "outputs": [],
   "source": [
    "df2.columns"
   ]
  },
  {
   "cell_type": "code",
   "execution_count": null,
   "id": "373ef5c0",
   "metadata": {},
   "outputs": [],
   "source": [
    "df2.isnull().sum()"
   ]
  },
  {
   "cell_type": "code",
   "execution_count": null,
   "id": "509c7636",
   "metadata": {},
   "outputs": [],
   "source": [
    "df2 = df2.dropna(axis = 0, how = 'all')"
   ]
  },
  {
   "cell_type": "code",
   "execution_count": null,
   "id": "0a681982",
   "metadata": {},
   "outputs": [],
   "source": [
    "df2"
   ]
  },
  {
   "cell_type": "code",
   "execution_count": null,
   "id": "b9bea68d",
   "metadata": {},
   "outputs": [],
   "source": [
    "df2.columns"
   ]
  },
  {
   "cell_type": "code",
   "execution_count": null,
   "id": "bc1cad4c",
   "metadata": {},
   "outputs": [],
   "source": [
    "df2['Location'].unique()"
   ]
  },
  {
   "cell_type": "code",
   "execution_count": null,
   "id": "3de0f25b",
   "metadata": {},
   "outputs": [],
   "source": [
    "df2.loc[df2['Location'] == 6.0]"
   ]
  },
  {
   "cell_type": "code",
   "execution_count": null,
   "id": "0a0927df",
   "metadata": {},
   "outputs": [],
   "source": [
    "df2['Industry'].unique()"
   ]
  },
  {
   "cell_type": "code",
   "execution_count": null,
   "id": "423f064e",
   "metadata": {},
   "outputs": [],
   "source": [
    "df2.loc[df2['Industry'] == 'Alcoholic Drinks']"
   ]
  },
  {
   "cell_type": "code",
   "execution_count": null,
   "id": "eed1cf3c",
   "metadata": {},
   "outputs": [],
   "source": [
    "df2['Subcategory_ID'].unique()"
   ]
  },
  {
   "cell_type": "code",
   "execution_count": null,
   "id": "980bacaf",
   "metadata": {},
   "outputs": [],
   "source": [
    "df2.loc[df2['Subcategory_ID'] == 1.0]"
   ]
  },
  {
   "cell_type": "code",
   "execution_count": null,
   "id": "800b4260",
   "metadata": {},
   "outputs": [],
   "source": [
    "df2.columns"
   ]
  },
  {
   "cell_type": "code",
   "execution_count": null,
   "id": "87d9ce15",
   "metadata": {},
   "outputs": [],
   "source": [
    "df2['Hierarchy_Level'].unique()"
   ]
  },
  {
   "cell_type": "code",
   "execution_count": null,
   "id": "39ee920e",
   "metadata": {},
   "outputs": [],
   "source": [
    "df2['Data_Type'].unique()"
   ]
  },
  {
   "cell_type": "code",
   "execution_count": null,
   "id": "b7a9b063",
   "metadata": {},
   "outputs": [],
   "source": [
    "df2['Global_Brand_Owner'].unique()"
   ]
  },
  {
   "cell_type": "code",
   "execution_count": null,
   "id": "2327a63a",
   "metadata": {},
   "outputs": [],
   "source": [
    "df2['Unit'].unique()"
   ]
  },
  {
   "cell_type": "code",
   "execution_count": null,
   "id": "e4fefe5c",
   "metadata": {},
   "outputs": [],
   "source": [
    "df2.loc[df2['Unit'] == '000 litres']"
   ]
  },
  {
   "cell_type": "code",
   "execution_count": null,
   "id": "aa7ad297",
   "metadata": {},
   "outputs": [],
   "source": [
    "df2.columns"
   ]
  },
  {
   "cell_type": "code",
   "execution_count": null,
   "id": "5e3a5d4b",
   "metadata": {},
   "outputs": [],
   "source": [
    "df2"
   ]
  },
  {
   "cell_type": "code",
   "execution_count": null,
   "id": "6d556b91",
   "metadata": {},
   "outputs": [],
   "source": [
    "df2['Year_text'].unique()"
   ]
  },
  {
   "cell_type": "code",
   "execution_count": null,
   "id": "1a5dd10d",
   "metadata": {},
   "outputs": [],
   "source": [
    "df2['Volume'].unique()"
   ]
  },
  {
   "cell_type": "code",
   "execution_count": null,
   "id": "81ac08d1",
   "metadata": {},
   "outputs": [],
   "source": [
    "df3 = pd.read_csv('Locations.csv', sep=';')"
   ]
  },
  {
   "cell_type": "code",
   "execution_count": null,
   "id": "9606d306",
   "metadata": {},
   "outputs": [],
   "source": [
    "df3"
   ]
  },
  {
   "cell_type": "code",
   "execution_count": null,
   "id": "12d86a0e",
   "metadata": {},
   "outputs": [],
   "source": [
    "df3 = df3.dropna(axis = 1, how = 'all')"
   ]
  },
  {
   "cell_type": "code",
   "execution_count": null,
   "id": "fa74f7f4",
   "metadata": {},
   "outputs": [],
   "source": [
    "df3"
   ]
  },
  {
   "cell_type": "code",
   "execution_count": null,
   "id": "a76c0078",
   "metadata": {},
   "outputs": [],
   "source": [
    "df3.index"
   ]
  },
  {
   "cell_type": "code",
   "execution_count": null,
   "id": "5b3e4037",
   "metadata": {},
   "outputs": [],
   "source": [
    "df3.T"
   ]
  },
  {
   "cell_type": "code",
   "execution_count": null,
   "id": "8bc3639e",
   "metadata": {},
   "outputs": [],
   "source": [
    "df3.reset_index().T"
   ]
  },
  {
   "cell_type": "code",
   "execution_count": null,
   "id": "c4c7dabb",
   "metadata": {},
   "outputs": [],
   "source": [
    "df3"
   ]
  },
  {
   "cell_type": "code",
   "execution_count": null,
   "id": "0ed28fe3",
   "metadata": {},
   "outputs": [],
   "source": [
    "df3.T"
   ]
  },
  {
   "cell_type": "code",
   "execution_count": null,
   "id": "b83db453",
   "metadata": {},
   "outputs": [],
   "source": [
    "df3.columns"
   ]
  },
  {
   "cell_type": "code",
   "execution_count": null,
   "id": "4ed18c6f",
   "metadata": {},
   "outputs": [],
   "source": [
    "df3"
   ]
  },
  {
   "cell_type": "code",
   "execution_count": null,
   "id": "f7f3b04e",
   "metadata": {},
   "outputs": [],
   "source": [
    "df3 = df3.set_index('id').T"
   ]
  },
  {
   "cell_type": "code",
   "execution_count": null,
   "id": "928069b8",
   "metadata": {},
   "outputs": [],
   "source": [
    "df3.columns"
   ]
  },
  {
   "cell_type": "code",
   "execution_count": null,
   "id": "e33d3a1a",
   "metadata": {},
   "outputs": [],
   "source": [
    "df3.columns"
   ]
  },
  {
   "cell_type": "code",
   "execution_count": null,
   "id": "ae85ec77",
   "metadata": {},
   "outputs": [],
   "source": [
    "df3 = df3.reset_index(drop=True)"
   ]
  },
  {
   "cell_type": "code",
   "execution_count": null,
   "id": "7f4e53d3",
   "metadata": {},
   "outputs": [],
   "source": [
    "df3.reset_index()"
   ]
  },
  {
   "cell_type": "code",
   "execution_count": null,
   "id": "a27454f2",
   "metadata": {},
   "outputs": [],
   "source": [
    "df3.columns"
   ]
  },
  {
   "cell_type": "code",
   "execution_count": null,
   "id": "ebdb8311",
   "metadata": {},
   "outputs": [],
   "source": [
    "df4 = pd.read_csv('Market_Sizes.csv')"
   ]
  },
  {
   "cell_type": "code",
   "execution_count": null,
   "id": "591d2781",
   "metadata": {},
   "outputs": [],
   "source": [
    "df4"
   ]
  },
  {
   "cell_type": "code",
   "execution_count": null,
   "id": "e046f924",
   "metadata": {},
   "outputs": [],
   "source": [
    "df4.columns"
   ]
  },
  {
   "cell_type": "code",
   "execution_count": null,
   "id": "5130b4e7",
   "metadata": {},
   "outputs": [],
   "source": [
    "df4['Location'].unique()"
   ]
  },
  {
   "cell_type": "code",
   "execution_count": null,
   "id": "efa56a36",
   "metadata": {},
   "outputs": [],
   "source": [
    "df4['Industry'].unique()"
   ]
  },
  {
   "cell_type": "code",
   "execution_count": null,
   "id": "29dcdb34",
   "metadata": {},
   "outputs": [],
   "source": [
    "df4['Subcategory'].unique()"
   ]
  },
  {
   "cell_type": "code",
   "execution_count": null,
   "id": "75aab7b6",
   "metadata": {},
   "outputs": [],
   "source": [
    "df4['Hierarchy_Level'].unique()"
   ]
  },
  {
   "cell_type": "code",
   "execution_count": null,
   "id": "d8ff8672",
   "metadata": {},
   "outputs": [],
   "source": [
    "df4['Data_Type'].unique()"
   ]
  },
  {
   "cell_type": "code",
   "execution_count": null,
   "id": "d5bb79a5",
   "metadata": {},
   "outputs": [],
   "source": [
    "df4['Unit'].unique()"
   ]
  },
  {
   "cell_type": "code",
   "execution_count": null,
   "id": "8fd28e62",
   "metadata": {},
   "outputs": [],
   "source": [
    "df4['Current_Constant'].unique()"
   ]
  },
  {
   "cell_type": "code",
   "execution_count": null,
   "id": "6908b89e",
   "metadata": {},
   "outputs": [],
   "source": [
    "df4.columns"
   ]
  },
  {
   "cell_type": "code",
   "execution_count": null,
   "id": "accbd1f1",
   "metadata": {},
   "outputs": [],
   "source": [
    "df4['Currency_Conversion'].unique()"
   ]
  },
  {
   "cell_type": "code",
   "execution_count": null,
   "id": "a052990d",
   "metadata": {},
   "outputs": [],
   "source": [
    "df4['Year'].unique()"
   ]
  },
  {
   "cell_type": "code",
   "execution_count": null,
   "id": "c9a8e045",
   "metadata": {},
   "outputs": [],
   "source": [
    "df4['Year_date'].unique()"
   ]
  },
  {
   "cell_type": "code",
   "execution_count": null,
   "id": "929fe6fa",
   "metadata": {},
   "outputs": [],
   "source": [
    "df4['RSP'].unique()"
   ]
  },
  {
   "cell_type": "code",
   "execution_count": null,
   "id": "989377db",
   "metadata": {},
   "outputs": [],
   "source": [
    "df4['Volume'].nunique()"
   ]
  },
  {
   "cell_type": "code",
   "execution_count": null,
   "id": "f3acf687",
   "metadata": {},
   "outputs": [],
   "source": [
    "df4.columns"
   ]
  },
  {
   "cell_type": "code",
   "execution_count": null,
   "id": "f2528e3b",
   "metadata": {},
   "outputs": [],
   "source": [
    "df4['Year_minus_2016'].unique()"
   ]
  },
  {
   "cell_type": "code",
   "execution_count": null,
   "id": "d2de4722",
   "metadata": {},
   "outputs": [],
   "source": [
    "df4['Year_minus_2022'].unique()"
   ]
  },
  {
   "cell_type": "code",
   "execution_count": null,
   "id": "61f24c55",
   "metadata": {},
   "outputs": [],
   "source": [
    "df4['Edition'].unique()"
   ]
  },
  {
   "cell_type": "code",
   "execution_count": null,
   "id": "6050c4fe",
   "metadata": {},
   "outputs": [],
   "source": [
    "df5= pd.read_csv('Subcategories.csv')"
   ]
  },
  {
   "cell_type": "code",
   "execution_count": null,
   "id": "0ceb281c",
   "metadata": {},
   "outputs": [],
   "source": [
    "df5"
   ]
  },
  {
   "cell_type": "code",
   "execution_count": null,
   "id": "91135fad",
   "metadata": {},
   "outputs": [],
   "source": [
    "df5.columns"
   ]
  },
  {
   "cell_type": "code",
   "execution_count": null,
   "id": "ed061afd",
   "metadata": {},
   "outputs": [],
   "source": [
    "df5 = df5.reset_index(drop=True)"
   ]
  },
  {
   "cell_type": "code",
   "execution_count": null,
   "id": "ea906b47",
   "metadata": {},
   "outputs": [],
   "source": [
    "df5.columns"
   ]
  },
  {
   "cell_type": "code",
   "execution_count": null,
   "id": "2ee08f81",
   "metadata": {},
   "outputs": [],
   "source": [
    "df5.index"
   ]
  },
  {
   "cell_type": "code",
   "execution_count": null,
   "id": "240965c8",
   "metadata": {},
   "outputs": [],
   "source": [
    "df3 = pd.read_csv('Locations.csv', sep=';',index_col=False)"
   ]
  },
  {
   "cell_type": "code",
   "execution_count": null,
   "id": "afac84b2",
   "metadata": {},
   "outputs": [],
   "source": [
    "df3"
   ]
  },
  {
   "cell_type": "code",
   "execution_count": null,
   "id": "0d5ff2ea",
   "metadata": {},
   "outputs": [],
   "source": [
    "df3.set_index('id')"
   ]
  },
  {
   "cell_type": "code",
   "execution_count": null,
   "id": "bd5c9d21",
   "metadata": {},
   "outputs": [],
   "source": [
    "df3 = df3.T"
   ]
  },
  {
   "cell_type": "code",
   "execution_count": null,
   "id": "eea12332",
   "metadata": {},
   "outputs": [],
   "source": [
    "df3 = df3.T"
   ]
  },
  {
   "cell_type": "code",
   "execution_count": null,
   "id": "ef01d851",
   "metadata": {},
   "outputs": [],
   "source": []
  },
  {
   "cell_type": "code",
   "execution_count": null,
   "id": "2095e17c",
   "metadata": {},
   "outputs": [],
   "source": [
    "df3 = df3.dropna(axis = 1, how = 'all')"
   ]
  },
  {
   "cell_type": "code",
   "execution_count": null,
   "id": "d4fe8a87",
   "metadata": {},
   "outputs": [],
   "source": [
    "df3"
   ]
  },
  {
   "cell_type": "code",
   "execution_count": null,
   "id": "9095aad8",
   "metadata": {},
   "outputs": [],
   "source": [
    "df3.set_index('id')"
   ]
  },
  {
   "cell_type": "code",
   "execution_count": null,
   "id": "b05657ad",
   "metadata": {},
   "outputs": [],
   "source": [
    "df3"
   ]
  },
  {
   "cell_type": "code",
   "execution_count": null,
   "id": "307c0051",
   "metadata": {},
   "outputs": [],
   "source": [
    "df3.set_index('id')"
   ]
  },
  {
   "cell_type": "code",
   "execution_count": null,
   "id": "2c287902",
   "metadata": {},
   "outputs": [],
   "source": [
    "df3 = df3.set_index('id')"
   ]
  },
  {
   "cell_type": "code",
   "execution_count": null,
   "id": "8708fdc1",
   "metadata": {},
   "outputs": [],
   "source": [
    "df3"
   ]
  },
  {
   "cell_type": "code",
   "execution_count": null,
   "id": "08f18641",
   "metadata": {},
   "outputs": [],
   "source": [
    "df3.T"
   ]
  },
  {
   "cell_type": "code",
   "execution_count": null,
   "id": "0f46afc7",
   "metadata": {},
   "outputs": [],
   "source": [
    "df3= df3.T"
   ]
  },
  {
   "cell_type": "code",
   "execution_count": null,
   "id": "05e7710e",
   "metadata": {},
   "outputs": [],
   "source": [
    "df3"
   ]
  },
  {
   "cell_type": "code",
   "execution_count": null,
   "id": "e9e6a984",
   "metadata": {},
   "outputs": [],
   "source": [
    "df3.reset_index()"
   ]
  },
  {
   "cell_type": "code",
   "execution_count": null,
   "id": "b0cdda1b",
   "metadata": {},
   "outputs": [],
   "source": [
    "df3.columns"
   ]
  },
  {
   "cell_type": "code",
   "execution_count": null,
   "id": "d6e65ef5",
   "metadata": {},
   "outputs": [],
   "source": [
    "df3['Region']"
   ]
  },
  {
   "cell_type": "code",
   "execution_count": null,
   "id": "5049b585",
   "metadata": {},
   "outputs": [],
   "source": [
    "df3.index"
   ]
  },
  {
   "cell_type": "code",
   "execution_count": null,
   "id": "143a1319",
   "metadata": {},
   "outputs": [],
   "source": [
    "df3.set_index('id')"
   ]
  },
  {
   "cell_type": "code",
   "execution_count": null,
   "id": "a33a37ca",
   "metadata": {},
   "outputs": [],
   "source": [
    "df3"
   ]
  },
  {
   "cell_type": "code",
   "execution_count": null,
   "id": "59f91cb4",
   "metadata": {},
   "outputs": [],
   "source": []
  }
 ],
 "metadata": {
  "kernelspec": {
   "display_name": "Python 3 (ipykernel)",
   "language": "python",
   "name": "python3"
  },
  "language_info": {
   "codemirror_mode": {
    "name": "ipython",
    "version": 3
   },
   "file_extension": ".py",
   "mimetype": "text/x-python",
   "name": "python",
   "nbconvert_exporter": "python",
   "pygments_lexer": "ipython3",
   "version": "3.10.6"
  }
 },
 "nbformat": 4,
 "nbformat_minor": 5
}
